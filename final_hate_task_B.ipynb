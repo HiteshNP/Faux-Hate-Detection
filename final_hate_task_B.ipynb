{
  "nbformat": 4,
  "nbformat_minor": 0,
  "metadata": {
    "colab": {
      "provenance": [],
      "gpuType": "T4"
    },
    "kernelspec": {
      "name": "python3",
      "display_name": "Python 3"
    },
    "language_info": {
      "name": "python"
    },
    "accelerator": "GPU"
  },
  "cells": [
    {
      "cell_type": "code",
      "execution_count": null,
      "metadata": {
        "colab": {
          "base_uri": "https://localhost:8080/"
        },
        "id": "7rCYa2dINUVU",
        "outputId": "daaa502e-6b44-41d9-98e6-e3229b36a1d3"
      },
      "outputs": [
        {
          "metadata": {
            "tags": null
          },
          "name": "stderr",
          "output_type": "stream",
          "text": [
            "/usr/local/lib/python3.10/dist-packages/sklearn/metrics/_classification.py:1531: UndefinedMetricWarning: Precision is ill-defined and being set to 0.0 in labels with no predicted samples. Use `zero_division` parameter to control this behavior.\n",
            "  _warn_prf(average, modifier, f\"{metric.capitalize()} is\", len(result))\n",
            "/usr/local/lib/python3.10/dist-packages/sklearn/metrics/_classification.py:1531: UndefinedMetricWarning: Precision is ill-defined and being set to 0.0 in labels with no predicted samples. Use `zero_division` parameter to control this behavior.\n",
            "  _warn_prf(average, modifier, f\"{metric.capitalize()} is\", len(result))\n",
            "/usr/local/lib/python3.10/dist-packages/sklearn/metrics/_classification.py:1531: UndefinedMetricWarning: Precision is ill-defined and being set to 0.0 in labels with no predicted samples. Use `zero_division` parameter to control this behavior.\n",
            "  _warn_prf(average, modifier, f\"{metric.capitalize()} is\", len(result))\n",
            "/usr/local/lib/python3.10/dist-packages/sklearn/metrics/_classification.py:1531: UndefinedMetricWarning: Precision is ill-defined and being set to 0.0 in labels with no predicted samples. Use `zero_division` parameter to control this behavior.\n",
            "  _warn_prf(average, modifier, f\"{metric.capitalize()} is\", len(result))\n",
            "/usr/local/lib/python3.10/dist-packages/sklearn/metrics/_classification.py:1531: UndefinedMetricWarning: Precision is ill-defined and being set to 0.0 in labels with no predicted samples. Use `zero_division` parameter to control this behavior.\n",
            "  _warn_prf(average, modifier, f\"{metric.capitalize()} is\", len(result))\n",
            "/usr/local/lib/python3.10/dist-packages/sklearn/metrics/_classification.py:1531: UndefinedMetricWarning: Precision is ill-defined and being set to 0.0 in labels with no predicted samples. Use `zero_division` parameter to control this behavior.\n",
            "  _warn_prf(average, modifier, f\"{metric.capitalize()} is\", len(result))\n"
          ]
        },
        {
          "metadata": {
            "tags": null
          },
          "name": "stdout",
          "output_type": "stream",
          "text": [
            "Epoch 1/30\n",
            "Training Loss: 2.5948\n",
            "Validation Loss: 2.5329\n",
            "Classification Report for Target Task:\n",
            "              precision    recall  f1-score   support\n",
            "\n",
            "           0       0.00      0.00      0.00       140\n",
            "           1       0.41      0.95      0.58       274\n",
            "           2       0.00      0.00      0.00        99\n",
            "           3       0.57      0.34      0.42       286\n",
            "\n",
            "    accuracy                           0.45       799\n",
            "   macro avg       0.25      0.32      0.25       799\n",
            "weighted avg       0.35      0.45      0.35       799\n",
            "\n",
            "Classification Report for Severity Task:\n",
            "              precision    recall  f1-score   support\n",
            "\n",
            "           0       0.00      0.00      0.00        74\n",
            "           1       0.33      0.80      0.47       257\n",
            "           2       0.00      0.00      0.00       182\n",
            "           3       0.56      0.35      0.43       286\n",
            "\n",
            "    accuracy                           0.38       799\n",
            "   macro avg       0.22      0.29      0.23       799\n",
            "weighted avg       0.31      0.38      0.31       799\n",
            "\n"
          ]
        },
        {
          "metadata": {
            "tags": null
          },
          "name": "stderr",
          "output_type": "stream",
          "text": [
            "/usr/local/lib/python3.10/dist-packages/sklearn/metrics/_classification.py:1531: UndefinedMetricWarning: Precision is ill-defined and being set to 0.0 in labels with no predicted samples. Use `zero_division` parameter to control this behavior.\n",
            "  _warn_prf(average, modifier, f\"{metric.capitalize()} is\", len(result))\n",
            "/usr/local/lib/python3.10/dist-packages/sklearn/metrics/_classification.py:1531: UndefinedMetricWarning: Precision is ill-defined and being set to 0.0 in labels with no predicted samples. Use `zero_division` parameter to control this behavior.\n",
            "  _warn_prf(average, modifier, f\"{metric.capitalize()} is\", len(result))\n",
            "/usr/local/lib/python3.10/dist-packages/sklearn/metrics/_classification.py:1531: UndefinedMetricWarning: Precision is ill-defined and being set to 0.0 in labels with no predicted samples. Use `zero_division` parameter to control this behavior.\n",
            "  _warn_prf(average, modifier, f\"{metric.capitalize()} is\", len(result))\n",
            "/usr/local/lib/python3.10/dist-packages/sklearn/metrics/_classification.py:1531: UndefinedMetricWarning: Precision is ill-defined and being set to 0.0 in labels with no predicted samples. Use `zero_division` parameter to control this behavior.\n",
            "  _warn_prf(average, modifier, f\"{metric.capitalize()} is\", len(result))\n",
            "/usr/local/lib/python3.10/dist-packages/sklearn/metrics/_classification.py:1531: UndefinedMetricWarning: Precision is ill-defined and being set to 0.0 in labels with no predicted samples. Use `zero_division` parameter to control this behavior.\n",
            "  _warn_prf(average, modifier, f\"{metric.capitalize()} is\", len(result))\n",
            "/usr/local/lib/python3.10/dist-packages/sklearn/metrics/_classification.py:1531: UndefinedMetricWarning: Precision is ill-defined and being set to 0.0 in labels with no predicted samples. Use `zero_division` parameter to control this behavior.\n",
            "  _warn_prf(average, modifier, f\"{metric.capitalize()} is\", len(result))\n"
          ]
        },
        {
          "metadata": {
            "tags": null
          },
          "name": "stdout",
          "output_type": "stream",
          "text": [
            "Epoch 2/30\n",
            "Training Loss: 2.3829\n",
            "Validation Loss: 2.2759\n",
            "Classification Report for Target Task:\n",
            "              precision    recall  f1-score   support\n",
            "\n",
            "           0       0.00      0.00      0.00       140\n",
            "           1       0.65      0.74      0.70       274\n",
            "           2       0.00      0.00      0.00        99\n",
            "           3       0.49      0.84      0.62       286\n",
            "\n",
            "    accuracy                           0.56       799\n",
            "   macro avg       0.29      0.40      0.33       799\n",
            "weighted avg       0.40      0.56      0.46       799\n",
            "\n",
            "Classification Report for Severity Task:\n",
            "              precision    recall  f1-score   support\n",
            "\n",
            "           0       0.00      0.00      0.00        74\n",
            "           1       0.41      0.19      0.26       257\n",
            "           2       0.45      0.64      0.53       182\n",
            "           3       0.52      0.77      0.62       286\n",
            "\n",
            "    accuracy                           0.48       799\n",
            "   macro avg       0.34      0.40      0.35       799\n",
            "weighted avg       0.42      0.48      0.42       799\n",
            "\n"
          ]
        },
        {
          "metadata": {
            "tags": null
          },
          "name": "stderr",
          "output_type": "stream",
          "text": [
            "/usr/local/lib/python3.10/dist-packages/sklearn/metrics/_classification.py:1531: UndefinedMetricWarning: Precision is ill-defined and being set to 0.0 in labels with no predicted samples. Use `zero_division` parameter to control this behavior.\n",
            "  _warn_prf(average, modifier, f\"{metric.capitalize()} is\", len(result))\n",
            "/usr/local/lib/python3.10/dist-packages/sklearn/metrics/_classification.py:1531: UndefinedMetricWarning: Precision is ill-defined and being set to 0.0 in labels with no predicted samples. Use `zero_division` parameter to control this behavior.\n",
            "  _warn_prf(average, modifier, f\"{metric.capitalize()} is\", len(result))\n",
            "/usr/local/lib/python3.10/dist-packages/sklearn/metrics/_classification.py:1531: UndefinedMetricWarning: Precision is ill-defined and being set to 0.0 in labels with no predicted samples. Use `zero_division` parameter to control this behavior.\n",
            "  _warn_prf(average, modifier, f\"{metric.capitalize()} is\", len(result))\n",
            "/usr/local/lib/python3.10/dist-packages/sklearn/metrics/_classification.py:1531: UndefinedMetricWarning: Precision is ill-defined and being set to 0.0 in labels with no predicted samples. Use `zero_division` parameter to control this behavior.\n",
            "  _warn_prf(average, modifier, f\"{metric.capitalize()} is\", len(result))\n",
            "/usr/local/lib/python3.10/dist-packages/sklearn/metrics/_classification.py:1531: UndefinedMetricWarning: Precision is ill-defined and being set to 0.0 in labels with no predicted samples. Use `zero_division` parameter to control this behavior.\n",
            "  _warn_prf(average, modifier, f\"{metric.capitalize()} is\", len(result))\n",
            "/usr/local/lib/python3.10/dist-packages/sklearn/metrics/_classification.py:1531: UndefinedMetricWarning: Precision is ill-defined and being set to 0.0 in labels with no predicted samples. Use `zero_division` parameter to control this behavior.\n",
            "  _warn_prf(average, modifier, f\"{metric.capitalize()} is\", len(result))\n"
          ]
        },
        {
          "metadata": {
            "tags": null
          },
          "name": "stdout",
          "output_type": "stream",
          "text": [
            "Epoch 3/30\n",
            "Training Loss: 2.2703\n",
            "Validation Loss: 2.2332\n",
            "Classification Report for Target Task:\n",
            "              precision    recall  f1-score   support\n",
            "\n",
            "           0       0.00      0.00      0.00       140\n",
            "           1       0.62      0.78      0.69       274\n",
            "           2       0.00      0.00      0.00        99\n",
            "           3       0.50      0.79      0.61       286\n",
            "\n",
            "    accuracy                           0.55       799\n",
            "   macro avg       0.28      0.39      0.33       799\n",
            "weighted avg       0.39      0.55      0.46       799\n",
            "\n",
            "Classification Report for Severity Task:\n",
            "              precision    recall  f1-score   support\n",
            "\n",
            "           0       0.00      0.00      0.00        74\n",
            "           1       0.41      0.39      0.40       257\n",
            "           2       0.47      0.63      0.54       182\n",
            "           3       0.58      0.64      0.61       286\n",
            "\n",
            "    accuracy                           0.50       799\n",
            "   macro avg       0.37      0.41      0.39       799\n",
            "weighted avg       0.45      0.50      0.47       799\n",
            "\n"
          ]
        },
        {
          "metadata": {
            "tags": null
          },
          "name": "stderr",
          "output_type": "stream",
          "text": [
            "/usr/local/lib/python3.10/dist-packages/sklearn/metrics/_classification.py:1531: UndefinedMetricWarning: Precision is ill-defined and being set to 0.0 in labels with no predicted samples. Use `zero_division` parameter to control this behavior.\n",
            "  _warn_prf(average, modifier, f\"{metric.capitalize()} is\", len(result))\n",
            "/usr/local/lib/python3.10/dist-packages/sklearn/metrics/_classification.py:1531: UndefinedMetricWarning: Precision is ill-defined and being set to 0.0 in labels with no predicted samples. Use `zero_division` parameter to control this behavior.\n",
            "  _warn_prf(average, modifier, f\"{metric.capitalize()} is\", len(result))\n",
            "/usr/local/lib/python3.10/dist-packages/sklearn/metrics/_classification.py:1531: UndefinedMetricWarning: Precision is ill-defined and being set to 0.0 in labels with no predicted samples. Use `zero_division` parameter to control this behavior.\n",
            "  _warn_prf(average, modifier, f\"{metric.capitalize()} is\", len(result))\n",
            "/usr/local/lib/python3.10/dist-packages/sklearn/metrics/_classification.py:1531: UndefinedMetricWarning: Precision is ill-defined and being set to 0.0 in labels with no predicted samples. Use `zero_division` parameter to control this behavior.\n",
            "  _warn_prf(average, modifier, f\"{metric.capitalize()} is\", len(result))\n",
            "/usr/local/lib/python3.10/dist-packages/sklearn/metrics/_classification.py:1531: UndefinedMetricWarning: Precision is ill-defined and being set to 0.0 in labels with no predicted samples. Use `zero_division` parameter to control this behavior.\n",
            "  _warn_prf(average, modifier, f\"{metric.capitalize()} is\", len(result))\n",
            "/usr/local/lib/python3.10/dist-packages/sklearn/metrics/_classification.py:1531: UndefinedMetricWarning: Precision is ill-defined and being set to 0.0 in labels with no predicted samples. Use `zero_division` parameter to control this behavior.\n",
            "  _warn_prf(average, modifier, f\"{metric.capitalize()} is\", len(result))\n"
          ]
        },
        {
          "metadata": {
            "tags": null
          },
          "name": "stdout",
          "output_type": "stream",
          "text": [
            "Epoch 4/30\n",
            "Training Loss: 2.1936\n",
            "Validation Loss: 2.1579\n",
            "Classification Report for Target Task:\n",
            "              precision    recall  f1-score   support\n",
            "\n",
            "           0       0.33      0.32      0.33       140\n",
            "           1       0.73      0.75      0.74       274\n",
            "           2       0.00      0.00      0.00        99\n",
            "           3       0.53      0.71      0.60       286\n",
            "\n",
            "    accuracy                           0.57       799\n",
            "   macro avg       0.40      0.44      0.42       799\n",
            "weighted avg       0.50      0.57      0.53       799\n",
            "\n",
            "Classification Report for Severity Task:\n",
            "              precision    recall  f1-score   support\n",
            "\n",
            "           0       0.00      0.00      0.00        74\n",
            "           1       0.43      0.44      0.43       257\n",
            "           2       0.50      0.66      0.57       182\n",
            "           3       0.59      0.62      0.60       286\n",
            "\n",
            "    accuracy                           0.51       799\n",
            "   macro avg       0.38      0.43      0.40       799\n",
            "weighted avg       0.46      0.51      0.49       799\n",
            "\n"
          ]
        },
        {
          "metadata": {
            "tags": null
          },
          "name": "stderr",
          "output_type": "stream",
          "text": [
            ""
          ]
        },
        {
          "metadata": {
            "tags": null
          },
          "name": "stdout",
          "output_type": "stream",
          "text": [
            "Epoch 5/30\n",
            "Training Loss: 2.1300\n",
            "Validation Loss: 2.1514\n",
            "Classification Report for Target Task:\n",
            "              precision    recall  f1-score   support\n",
            "\n",
            "           0       0.35      0.14      0.19       140\n",
            "           1       0.66      0.82      0.73       274\n",
            "           2       0.59      0.41      0.49        99\n",
            "           3       0.58      0.68      0.62       286\n",
            "\n",
            "    accuracy                           0.60       799\n",
            "   macro avg       0.54      0.51      0.51       799\n",
            "weighted avg       0.57      0.60      0.57       799\n",
            "\n",
            "Classification Report for Severity Task:\n",
            "              precision    recall  f1-score   support\n",
            "\n",
            "           0       0.54      0.36      0.44        74\n",
            "           1       0.50      0.37      0.42       257\n",
            "           2       0.48      0.71      0.57       182\n",
            "           3       0.61      0.62      0.61       286\n",
            "\n",
            "    accuracy                           0.53       799\n",
            "   macro avg       0.53      0.51      0.51       799\n",
            "weighted avg       0.54      0.53      0.52       799\n",
            "\n"
          ]
        },
        {
          "metadata": {
            "tags": null
          },
          "name": "stderr",
          "output_type": "stream",
          "text": [
            ""
          ]
        },
        {
          "metadata": {
            "tags": null
          },
          "name": "stdout",
          "output_type": "stream",
          "text": [
            "Epoch 6/30\n",
            "Training Loss: 2.0519\n",
            "Validation Loss: 2.0720\n",
            "Classification Report for Target Task:\n",
            "              precision    recall  f1-score   support\n",
            "\n",
            "           0       0.36      0.32      0.34       140\n",
            "           1       0.80      0.75      0.77       274\n",
            "           2       0.56      0.48      0.52        99\n",
            "           3       0.59      0.69      0.63       286\n",
            "\n",
            "    accuracy                           0.62       799\n",
            "   macro avg       0.58      0.56      0.57       799\n",
            "weighted avg       0.62      0.62      0.62       799\n",
            "\n",
            "Classification Report for Severity Task:\n",
            "              precision    recall  f1-score   support\n",
            "\n",
            "           0       0.52      0.45      0.48        74\n",
            "           1       0.54      0.38      0.45       257\n",
            "           2       0.52      0.70      0.60       182\n",
            "           3       0.60      0.65      0.62       286\n",
            "\n",
            "    accuracy                           0.56       799\n",
            "   macro avg       0.54      0.54      0.54       799\n",
            "weighted avg       0.55      0.56      0.55       799\n",
            "\n"
          ]
        },
        {
          "metadata": {
            "tags": null
          },
          "name": "stderr",
          "output_type": "stream",
          "text": [
            ""
          ]
        },
        {
          "metadata": {
            "tags": null
          },
          "name": "stdout",
          "output_type": "stream",
          "text": [
            "Epoch 7/30\n",
            "Training Loss: 1.9847\n",
            "Validation Loss: 2.0706\n",
            "Classification Report for Target Task:\n",
            "              precision    recall  f1-score   support\n",
            "\n",
            "           0       0.37      0.33      0.35       140\n",
            "           1       0.80      0.75      0.77       274\n",
            "           2       0.60      0.47      0.53        99\n",
            "           3       0.58      0.68      0.63       286\n",
            "\n",
            "    accuracy                           0.62       799\n",
            "   macro avg       0.59      0.56      0.57       799\n",
            "weighted avg       0.62      0.62      0.62       799\n",
            "\n",
            "Classification Report for Severity Task:\n",
            "              precision    recall  f1-score   support\n",
            "\n",
            "           0       0.56      0.42      0.48        74\n",
            "           1       0.47      0.39      0.42       257\n",
            "           2       0.52      0.64      0.57       182\n",
            "           3       0.59      0.63      0.61       286\n",
            "\n",
            "    accuracy                           0.54       799\n",
            "   macro avg       0.54      0.52      0.52       799\n",
            "weighted avg       0.53      0.54      0.53       799\n",
            "\n"
          ]
        },
        {
          "metadata": {
            "tags": null
          },
          "name": "stderr",
          "output_type": "stream",
          "text": [
            ""
          ]
        },
        {
          "metadata": {
            "tags": null
          },
          "name": "stdout",
          "output_type": "stream",
          "text": [
            "Epoch 8/30\n",
            "Training Loss: 1.9162\n",
            "Validation Loss: 2.0896\n",
            "Classification Report for Target Task:\n",
            "              precision    recall  f1-score   support\n",
            "\n",
            "           0       0.36      0.29      0.32       140\n",
            "           1       0.80      0.74      0.77       274\n",
            "           2       0.61      0.44      0.51        99\n",
            "           3       0.57      0.71      0.63       286\n",
            "\n",
            "    accuracy                           0.61       799\n",
            "   macro avg       0.58      0.55      0.56       799\n",
            "weighted avg       0.61      0.61      0.61       799\n",
            "\n",
            "Classification Report for Severity Task:\n",
            "              precision    recall  f1-score   support\n",
            "\n",
            "           0       0.70      0.38      0.49        74\n",
            "           1       0.51      0.35      0.42       257\n",
            "           2       0.53      0.67      0.59       182\n",
            "           3       0.58      0.70      0.63       286\n",
            "\n",
            "    accuracy                           0.55       799\n",
            "   macro avg       0.58      0.53      0.53       799\n",
            "weighted avg       0.55      0.55      0.54       799\n",
            "\n"
          ]
        },
        {
          "metadata": {
            "tags": null
          },
          "name": "stderr",
          "output_type": "stream",
          "text": [
            ""
          ]
        },
        {
          "metadata": {
            "tags": null
          },
          "name": "stdout",
          "output_type": "stream",
          "text": [
            "Epoch 9/30\n",
            "Training Loss: 1.8640\n",
            "Validation Loss: 2.0932\n",
            "Classification Report for Target Task:\n",
            "              precision    recall  f1-score   support\n",
            "\n",
            "           0       0.34      0.56      0.42       140\n",
            "           1       0.81      0.77      0.79       274\n",
            "           2       0.48      0.59      0.53        99\n",
            "           3       0.68      0.45      0.54       286\n",
            "\n",
            "    accuracy                           0.60       799\n",
            "   macro avg       0.58      0.59      0.57       799\n",
            "weighted avg       0.64      0.60      0.61       799\n",
            "\n",
            "Classification Report for Severity Task:\n",
            "              precision    recall  f1-score   support\n",
            "\n",
            "           0       0.41      0.54      0.47        74\n",
            "           1       0.45      0.49      0.47       257\n",
            "           2       0.51      0.67      0.58       182\n",
            "           3       0.69      0.45      0.54       286\n",
            "\n",
            "    accuracy                           0.52       799\n",
            "   macro avg       0.52      0.54      0.51       799\n",
            "weighted avg       0.55      0.52      0.52       799\n",
            "\n"
          ]
        },
        {
          "metadata": {
            "tags": null
          },
          "name": "stderr",
          "output_type": "stream",
          "text": [
            ""
          ]
        },
        {
          "metadata": {
            "tags": null
          },
          "name": "stdout",
          "output_type": "stream",
          "text": [
            "Epoch 10/30\n",
            "Training Loss: 1.8224\n",
            "Validation Loss: 2.1441\n",
            "Classification Report for Target Task:\n",
            "              precision    recall  f1-score   support\n",
            "\n",
            "           0       0.39      0.34      0.36       140\n",
            "           1       0.76      0.76      0.76       274\n",
            "           2       0.57      0.51      0.54        99\n",
            "           3       0.60      0.66      0.63       286\n",
            "\n",
            "    accuracy                           0.62       799\n",
            "   macro avg       0.58      0.57      0.57       799\n",
            "weighted avg       0.62      0.62      0.62       799\n",
            "\n",
            "Classification Report for Severity Task:\n",
            "              precision    recall  f1-score   support\n",
            "\n",
            "           0       0.49      0.49      0.49        74\n",
            "           1       0.51      0.33      0.40       257\n",
            "           2       0.50      0.69      0.58       182\n",
            "           3       0.61      0.66      0.63       286\n",
            "\n",
            "    accuracy                           0.54       799\n",
            "   macro avg       0.53      0.54      0.53       799\n",
            "weighted avg       0.54      0.54      0.53       799\n",
            "\n"
          ]
        },
        {
          "metadata": {
            "tags": null
          },
          "name": "stderr",
          "output_type": "stream",
          "text": [
            ""
          ]
        },
        {
          "metadata": {
            "tags": null
          },
          "name": "stdout",
          "output_type": "stream",
          "text": [
            "Epoch 11/30\n",
            "Training Loss: 1.7140\n",
            "Validation Loss: 2.1576\n",
            "Classification Report for Target Task:\n",
            "              precision    recall  f1-score   support\n",
            "\n",
            "           0       0.33      0.44      0.38       140\n",
            "           1       0.77      0.75      0.76       274\n",
            "           2       0.59      0.55      0.57        99\n",
            "           3       0.61      0.55      0.58       286\n",
            "\n",
            "    accuracy                           0.60       799\n",
            "   macro avg       0.58      0.57      0.57       799\n",
            "weighted avg       0.62      0.60      0.60       799\n",
            "\n",
            "Classification Report for Severity Task:\n",
            "              precision    recall  f1-score   support\n",
            "\n",
            "           0       0.51      0.50      0.51        74\n",
            "           1       0.45      0.40      0.42       257\n",
            "           2       0.51      0.69      0.58       182\n",
            "           3       0.61      0.55      0.58       286\n",
            "\n",
            "    accuracy                           0.53       799\n",
            "   macro avg       0.52      0.53      0.52       799\n",
            "weighted avg       0.53      0.53      0.52       799\n",
            "\n"
          ]
        },
        {
          "metadata": {
            "tags": null
          },
          "name": "stderr",
          "output_type": "stream",
          "text": [
            ""
          ]
        },
        {
          "metadata": {
            "tags": null
          },
          "name": "stdout",
          "output_type": "stream",
          "text": [
            "Epoch 12/30\n",
            "Training Loss: 1.6656\n",
            "Validation Loss: 2.2203\n",
            "Classification Report for Target Task:\n",
            "              precision    recall  f1-score   support\n",
            "\n",
            "           0       0.36      0.47      0.41       140\n",
            "           1       0.80      0.74      0.77       274\n",
            "           2       0.54      0.43      0.48        99\n",
            "           3       0.60      0.59      0.59       286\n",
            "\n",
            "    accuracy                           0.60       799\n",
            "   macro avg       0.57      0.56      0.56       799\n",
            "weighted avg       0.62      0.60      0.61       799\n",
            "\n",
            "Classification Report for Severity Task:\n",
            "              precision    recall  f1-score   support\n",
            "\n",
            "           0       0.50      0.42      0.46        74\n",
            "           1       0.48      0.42      0.45       257\n",
            "           2       0.51      0.65      0.57       182\n",
            "           3       0.59      0.59      0.59       286\n",
            "\n",
            "    accuracy                           0.53       799\n",
            "   macro avg       0.52      0.52      0.52       799\n",
            "weighted avg       0.53      0.53      0.53       799\n",
            "\n"
          ]
        },
        {
          "metadata": {
            "tags": null
          },
          "name": "stderr",
          "output_type": "stream",
          "text": [
            ""
          ]
        },
        {
          "metadata": {
            "tags": null
          },
          "name": "stdout",
          "output_type": "stream",
          "text": [
            "Epoch 13/30\n",
            "Training Loss: 1.6167\n",
            "Validation Loss: 2.2185\n",
            "Classification Report for Target Task:\n",
            "              precision    recall  f1-score   support\n",
            "\n",
            "           0       0.35      0.50      0.41       140\n",
            "           1       0.80      0.74      0.77       274\n",
            "           2       0.49      0.46      0.48        99\n",
            "           3       0.62      0.55      0.58       286\n",
            "\n",
            "    accuracy                           0.60       799\n",
            "   macro avg       0.57      0.56      0.56       799\n",
            "weighted avg       0.62      0.60      0.60       799\n",
            "\n",
            "Classification Report for Severity Task:\n",
            "              precision    recall  f1-score   support\n",
            "\n",
            "           0       0.48      0.46      0.47        74\n",
            "           1       0.46      0.44      0.45       257\n",
            "           2       0.52      0.65      0.57       182\n",
            "           3       0.61      0.53      0.57       286\n",
            "\n",
            "    accuracy                           0.52       799\n",
            "   macro avg       0.51      0.52      0.52       799\n",
            "weighted avg       0.53      0.52      0.52       799\n",
            "\n"
          ]
        },
        {
          "metadata": {
            "tags": null
          },
          "name": "stderr",
          "output_type": "stream",
          "text": [
            ""
          ]
        },
        {
          "metadata": {
            "tags": null
          },
          "name": "stdout",
          "output_type": "stream",
          "text": [
            "Epoch 14/30\n",
            "Training Loss: 1.5532\n",
            "Validation Loss: 2.2557\n",
            "Classification Report for Target Task:\n",
            "              precision    recall  f1-score   support\n",
            "\n",
            "           0       0.37      0.45      0.40       140\n",
            "           1       0.76      0.77      0.76       274\n",
            "           2       0.53      0.49      0.51        99\n",
            "           3       0.62      0.56      0.59       286\n",
            "\n",
            "    accuracy                           0.60       799\n",
            "   macro avg       0.57      0.57      0.57       799\n",
            "weighted avg       0.61      0.60      0.60       799\n",
            "\n",
            "Classification Report for Severity Task:\n",
            "              precision    recall  f1-score   support\n",
            "\n",
            "           0       0.46      0.49      0.47        74\n",
            "           1       0.48      0.40      0.44       257\n",
            "           2       0.51      0.68      0.58       182\n",
            "           3       0.61      0.55      0.58       286\n",
            "\n",
            "    accuracy                           0.53       799\n",
            "   macro avg       0.51      0.53      0.52       799\n",
            "weighted avg       0.53      0.53      0.52       799\n",
            "\n"
          ]
        },
        {
          "metadata": {
            "tags": null
          },
          "name": "stderr",
          "output_type": "stream",
          "text": [
            ""
          ]
        },
        {
          "metadata": {
            "tags": null
          },
          "name": "stdout",
          "output_type": "stream",
          "text": [
            "Epoch 15/30\n",
            "Training Loss: 1.5332\n",
            "Validation Loss: 2.2922\n",
            "Classification Report for Target Task:\n",
            "              precision    recall  f1-score   support\n",
            "\n",
            "           0       0.37      0.44      0.40       140\n",
            "           1       0.77      0.74      0.75       274\n",
            "           2       0.53      0.52      0.52        99\n",
            "           3       0.60      0.56      0.58       286\n",
            "\n",
            "    accuracy                           0.60       799\n",
            "   macro avg       0.56      0.56      0.56       799\n",
            "weighted avg       0.61      0.60      0.60       799\n",
            "\n",
            "Classification Report for Severity Task:\n",
            "              precision    recall  f1-score   support\n",
            "\n",
            "           0       0.44      0.50      0.47        74\n",
            "           1       0.49      0.38      0.43       257\n",
            "           2       0.50      0.66      0.57       182\n",
            "           3       0.59      0.57      0.58       286\n",
            "\n",
            "    accuracy                           0.52       799\n",
            "   macro avg       0.51      0.53      0.51       799\n",
            "weighted avg       0.52      0.52      0.52       799\n",
            "\n"
          ]
        },
        {
          "metadata": {
            "tags": null
          },
          "name": "stderr",
          "output_type": "stream",
          "text": [
            ""
          ]
        },
        {
          "metadata": {
            "tags": null
          },
          "name": "stdout",
          "output_type": "stream",
          "text": [
            "Epoch 16/30\n",
            "Training Loss: 1.5231\n",
            "Validation Loss: 2.2887\n",
            "Classification Report for Target Task:\n",
            "              precision    recall  f1-score   support\n",
            "\n",
            "           0       0.35      0.48      0.41       140\n",
            "           1       0.78      0.74      0.76       274\n",
            "           2       0.54      0.53      0.53        99\n",
            "           3       0.62      0.55      0.58       286\n",
            "\n",
            "    accuracy                           0.60       799\n",
            "   macro avg       0.57      0.57      0.57       799\n",
            "weighted avg       0.62      0.60      0.60       799\n",
            "\n",
            "Classification Report for Severity Task:\n",
            "              precision    recall  f1-score   support\n",
            "\n",
            "           0       0.44      0.49      0.46        74\n",
            "           1       0.48      0.42      0.44       257\n",
            "           2       0.51      0.67      0.58       182\n",
            "           3       0.62      0.55      0.58       286\n",
            "\n",
            "    accuracy                           0.53       799\n",
            "   macro avg       0.51      0.53      0.52       799\n",
            "weighted avg       0.53      0.53      0.53       799\n",
            "\n"
          ]
        },
        {
          "metadata": {
            "tags": null
          },
          "name": "stderr",
          "output_type": "stream",
          "text": [
            ""
          ]
        },
        {
          "metadata": {
            "tags": null
          },
          "name": "stdout",
          "output_type": "stream",
          "text": [
            "Epoch 17/30\n",
            "Training Loss: 1.4826\n",
            "Validation Loss: 2.3493\n",
            "Classification Report for Target Task:\n",
            "              precision    recall  f1-score   support\n",
            "\n",
            "           0       0.36      0.46      0.41       140\n",
            "           1       0.77      0.75      0.76       274\n",
            "           2       0.53      0.47      0.50        99\n",
            "           3       0.60      0.56      0.58       286\n",
            "\n",
            "    accuracy                           0.60       799\n",
            "   macro avg       0.57      0.56      0.56       799\n",
            "weighted avg       0.61      0.60      0.60       799\n",
            "\n",
            "Classification Report for Severity Task:\n",
            "              precision    recall  f1-score   support\n",
            "\n",
            "           0       0.45      0.46      0.46        74\n",
            "           1       0.46      0.38      0.42       257\n",
            "           2       0.51      0.67      0.58       182\n",
            "           3       0.60      0.57      0.58       286\n",
            "\n",
            "    accuracy                           0.52       799\n",
            "   macro avg       0.50      0.52      0.51       799\n",
            "weighted avg       0.52      0.52      0.52       799\n",
            "\n"
          ]
        },
        {
          "metadata": {
            "tags": null
          },
          "name": "stderr",
          "output_type": "stream",
          "text": [
            ""
          ]
        },
        {
          "metadata": {
            "tags": null
          },
          "name": "stdout",
          "output_type": "stream",
          "text": [
            "Epoch 18/30\n",
            "Training Loss: 1.4745\n",
            "Validation Loss: 2.3643\n",
            "Classification Report for Target Task:\n",
            "              precision    recall  f1-score   support\n",
            "\n",
            "           0       0.37      0.50      0.43       140\n",
            "           1       0.79      0.72      0.75       274\n",
            "           2       0.53      0.48      0.51        99\n",
            "           3       0.59      0.56      0.57       286\n",
            "\n",
            "    accuracy                           0.59       799\n",
            "   macro avg       0.57      0.57      0.56       799\n",
            "weighted avg       0.61      0.59      0.60       799\n",
            "\n",
            "Classification Report for Severity Task:\n",
            "              precision    recall  f1-score   support\n",
            "\n",
            "           0       0.43      0.45      0.44        74\n",
            "           1       0.47      0.40      0.43       257\n",
            "           2       0.51      0.64      0.57       182\n",
            "           3       0.58      0.56      0.57       286\n",
            "\n",
            "    accuracy                           0.52       799\n",
            "   macro avg       0.50      0.51      0.50       799\n",
            "weighted avg       0.52      0.52      0.52       799\n",
            "\n"
          ]
        },
        {
          "metadata": {
            "tags": null
          },
          "name": "stderr",
          "output_type": "stream",
          "text": [
            ""
          ]
        },
        {
          "metadata": {
            "tags": null
          },
          "name": "stdout",
          "output_type": "stream",
          "text": [
            "Epoch 19/30\n",
            "Training Loss: 1.4434\n",
            "Validation Loss: 2.3496\n",
            "Classification Report for Target Task:\n",
            "              precision    recall  f1-score   support\n",
            "\n",
            "           0       0.35      0.52      0.42       140\n",
            "           1       0.78      0.77      0.77       274\n",
            "           2       0.53      0.49      0.51        99\n",
            "           3       0.64      0.51      0.57       286\n",
            "\n",
            "    accuracy                           0.60       799\n",
            "   macro avg       0.57      0.57      0.57       799\n",
            "weighted avg       0.62      0.60      0.61       799\n",
            "\n",
            "Classification Report for Severity Task:\n",
            "              precision    recall  f1-score   support\n",
            "\n",
            "           0       0.45      0.47      0.46        74\n",
            "           1       0.47      0.44      0.45       257\n",
            "           2       0.51      0.68      0.58       182\n",
            "           3       0.62      0.52      0.57       286\n",
            "\n",
            "    accuracy                           0.53       799\n",
            "   macro avg       0.51      0.53      0.52       799\n",
            "weighted avg       0.53      0.53      0.52       799\n",
            "\n"
          ]
        },
        {
          "metadata": {
            "tags": null
          },
          "name": "stderr",
          "output_type": "stream",
          "text": [
            ""
          ]
        },
        {
          "metadata": {
            "tags": null
          },
          "name": "stdout",
          "output_type": "stream",
          "text": [
            "Epoch 20/30\n",
            "Training Loss: 1.4421\n",
            "Validation Loss: 2.3855\n",
            "Classification Report for Target Task:\n",
            "              precision    recall  f1-score   support\n",
            "\n",
            "           0       0.37      0.46      0.41       140\n",
            "           1       0.78      0.74      0.76       274\n",
            "           2       0.49      0.41      0.45        99\n",
            "           3       0.59      0.57      0.58       286\n",
            "\n",
            "    accuracy                           0.59       799\n",
            "   macro avg       0.56      0.55      0.55       799\n",
            "weighted avg       0.60      0.59      0.60       799\n",
            "\n",
            "Classification Report for Severity Task:\n",
            "              precision    recall  f1-score   support\n",
            "\n",
            "           0       0.48      0.42      0.45        74\n",
            "           1       0.48      0.41      0.44       257\n",
            "           2       0.51      0.64      0.57       182\n",
            "           3       0.58      0.58      0.58       286\n",
            "\n",
            "    accuracy                           0.52       799\n",
            "   macro avg       0.51      0.51      0.51       799\n",
            "weighted avg       0.52      0.52      0.52       799\n",
            "\n"
          ]
        },
        {
          "metadata": {
            "tags": null
          },
          "name": "stderr",
          "output_type": "stream",
          "text": [
            ""
          ]
        },
        {
          "metadata": {
            "tags": null
          },
          "name": "stdout",
          "output_type": "stream",
          "text": [
            "Epoch 21/30\n",
            "Training Loss: 1.4311\n",
            "Validation Loss: 2.3720\n",
            "Classification Report for Target Task:\n",
            "              precision    recall  f1-score   support\n",
            "\n",
            "           0       0.36      0.46      0.40       140\n",
            "           1       0.77      0.77      0.77       274\n",
            "           2       0.50      0.43      0.46        99\n",
            "           3       0.60      0.54      0.57       286\n",
            "\n",
            "    accuracy                           0.59       799\n",
            "   macro avg       0.56      0.55      0.55       799\n",
            "weighted avg       0.60      0.59      0.60       799\n",
            "\n",
            "Classification Report for Severity Task:\n",
            "              precision    recall  f1-score   support\n",
            "\n",
            "           0       0.46      0.42      0.44        74\n",
            "           1       0.48      0.42      0.45       257\n",
            "           2       0.51      0.68      0.58       182\n",
            "           3       0.60      0.55      0.57       286\n",
            "\n",
            "    accuracy                           0.53       799\n",
            "   macro avg       0.51      0.52      0.51       799\n",
            "weighted avg       0.53      0.53      0.52       799\n",
            "\n"
          ]
        },
        {
          "metadata": {
            "tags": null
          },
          "name": "stderr",
          "output_type": "stream",
          "text": [
            ""
          ]
        },
        {
          "metadata": {
            "tags": null
          },
          "name": "stdout",
          "output_type": "stream",
          "text": [
            "Epoch 22/30\n",
            "Training Loss: 1.4322\n",
            "Validation Loss: 2.3811\n",
            "Classification Report for Target Task:\n",
            "              precision    recall  f1-score   support\n",
            "\n",
            "           0       0.35      0.51      0.42       140\n",
            "           1       0.78      0.76      0.77       274\n",
            "           2       0.51      0.44      0.47        99\n",
            "           3       0.62      0.52      0.57       286\n",
            "\n",
            "    accuracy                           0.59       799\n",
            "   macro avg       0.56      0.56      0.56       799\n",
            "weighted avg       0.61      0.59      0.60       799\n",
            "\n",
            "Classification Report for Severity Task:\n",
            "              precision    recall  f1-score   support\n",
            "\n",
            "           0       0.45      0.42      0.43        74\n",
            "           1       0.46      0.44      0.45       257\n",
            "           2       0.51      0.66      0.58       182\n",
            "           3       0.60      0.52      0.56       286\n",
            "\n",
            "    accuracy                           0.52       799\n",
            "   macro avg       0.51      0.51      0.51       799\n",
            "weighted avg       0.52      0.52      0.52       799\n",
            "\n"
          ]
        },
        {
          "metadata": {
            "tags": null
          },
          "name": "stderr",
          "output_type": "stream",
          "text": [
            ""
          ]
        },
        {
          "metadata": {
            "tags": null
          },
          "name": "stdout",
          "output_type": "stream",
          "text": [
            "Epoch 23/30\n",
            "Training Loss: 1.4153\n",
            "Validation Loss: 2.3889\n",
            "Classification Report for Target Task:\n",
            "              precision    recall  f1-score   support\n",
            "\n",
            "           0       0.36      0.51      0.42       140\n",
            "           1       0.78      0.75      0.76       274\n",
            "           2       0.53      0.48      0.51        99\n",
            "           3       0.62      0.54      0.58       286\n",
            "\n",
            "    accuracy                           0.60       799\n",
            "   macro avg       0.57      0.57      0.57       799\n",
            "weighted avg       0.62      0.60      0.61       799\n",
            "\n",
            "Classification Report for Severity Task:\n",
            "              precision    recall  f1-score   support\n",
            "\n",
            "           0       0.46      0.45      0.45        74\n",
            "           1       0.47      0.44      0.45       257\n",
            "           2       0.51      0.64      0.57       182\n",
            "           3       0.60      0.54      0.57       286\n",
            "\n",
            "    accuracy                           0.52       799\n",
            "   macro avg       0.51      0.52      0.51       799\n",
            "weighted avg       0.52      0.52      0.52       799\n",
            "\n"
          ]
        },
        {
          "metadata": {
            "tags": null
          },
          "name": "stderr",
          "output_type": "stream",
          "text": [
            ""
          ]
        },
        {
          "metadata": {
            "tags": null
          },
          "name": "stdout",
          "output_type": "stream",
          "text": [
            "Epoch 24/30\n",
            "Training Loss: 1.4026\n",
            "Validation Loss: 2.4011\n",
            "Classification Report for Target Task:\n",
            "              precision    recall  f1-score   support\n",
            "\n",
            "           0       0.37      0.48      0.42       140\n",
            "           1       0.78      0.76      0.77       274\n",
            "           2       0.51      0.44      0.47        99\n",
            "           3       0.60      0.56      0.58       286\n",
            "\n",
            "    accuracy                           0.60       799\n",
            "   macro avg       0.56      0.56      0.56       799\n",
            "weighted avg       0.61      0.60      0.60       799\n",
            "\n",
            "Classification Report for Severity Task:\n",
            "              precision    recall  f1-score   support\n",
            "\n",
            "           0       0.46      0.45      0.46        74\n",
            "           1       0.48      0.41      0.45       257\n",
            "           2       0.51      0.66      0.58       182\n",
            "           3       0.59      0.57      0.58       286\n",
            "\n",
            "    accuracy                           0.53       799\n",
            "   macro avg       0.51      0.52      0.51       799\n",
            "weighted avg       0.53      0.53      0.52       799\n",
            "\n"
          ]
        },
        {
          "metadata": {
            "tags": null
          },
          "name": "stderr",
          "output_type": "stream",
          "text": [
            ""
          ]
        },
        {
          "metadata": {
            "tags": null
          },
          "name": "stdout",
          "output_type": "stream",
          "text": [
            "Epoch 25/30\n",
            "Training Loss: 1.4029\n",
            "Validation Loss: 2.4056\n",
            "Classification Report for Target Task:\n",
            "              precision    recall  f1-score   support\n",
            "\n",
            "           0       0.36      0.49      0.42       140\n",
            "           1       0.78      0.74      0.76       274\n",
            "           2       0.51      0.45      0.48        99\n",
            "           3       0.61      0.55      0.58       286\n",
            "\n",
            "    accuracy                           0.60       799\n",
            "   macro avg       0.57      0.56      0.56       799\n",
            "weighted avg       0.61      0.60      0.60       799\n",
            "\n",
            "Classification Report for Severity Task:\n",
            "              precision    recall  f1-score   support\n",
            "\n",
            "           0       0.44      0.45      0.44        74\n",
            "           1       0.48      0.41      0.44       257\n",
            "           2       0.52      0.66      0.58       182\n",
            "           3       0.59      0.56      0.58       286\n",
            "\n",
            "    accuracy                           0.52       799\n",
            "   macro avg       0.51      0.52      0.51       799\n",
            "weighted avg       0.52      0.52      0.52       799\n",
            "\n"
          ]
        },
        {
          "output_type": "stream",
          "name": "stderr",
          "text": []
        },
        {
          "output_type": "stream",
          "name": "stdout",
          "text": [
            "Epoch 26/30\n",
            "Training Loss: 1.3985\n",
            "Validation Loss: 2.4100\n",
            "Classification Report for Target Task:\n",
            "              precision    recall  f1-score   support\n",
            "\n",
            "           0       0.36      0.49      0.41       140\n",
            "           1       0.78      0.74      0.76       274\n",
            "           2       0.49      0.42      0.46        99\n",
            "           3       0.60      0.56      0.58       286\n",
            "\n",
            "    accuracy                           0.59       799\n",
            "   macro avg       0.56      0.55      0.55       799\n",
            "weighted avg       0.61      0.59      0.60       799\n",
            "\n",
            "Classification Report for Severity Task:\n",
            "              precision    recall  f1-score   support\n",
            "\n",
            "           0       0.46      0.42      0.44        74\n",
            "           1       0.48      0.42      0.45       257\n",
            "           2       0.52      0.65      0.58       182\n",
            "           3       0.59      0.56      0.57       286\n",
            "\n",
            "    accuracy                           0.52       799\n",
            "   macro avg       0.51      0.51      0.51       799\n",
            "weighted avg       0.52      0.52      0.52       799\n",
            "\n"
          ]
        },
        {
          "output_type": "stream",
          "name": "stderr",
          "text": []
        },
        {
          "output_type": "stream",
          "name": "stdout",
          "text": [
            "Epoch 27/30\n",
            "Training Loss: 1.3989\n",
            "Validation Loss: 2.4012\n",
            "Classification Report for Target Task:\n",
            "              precision    recall  f1-score   support\n",
            "\n",
            "           0       0.36      0.49      0.41       140\n",
            "           1       0.78      0.77      0.78       274\n",
            "           2       0.52      0.46      0.49        99\n",
            "           3       0.62      0.54      0.58       286\n",
            "\n",
            "    accuracy                           0.60       799\n",
            "   macro avg       0.57      0.57      0.56       799\n",
            "weighted avg       0.62      0.60      0.61       799\n",
            "\n",
            "Classification Report for Severity Task:\n",
            "              precision    recall  f1-score   support\n",
            "\n",
            "           0       0.45      0.45      0.45        74\n",
            "           1       0.47      0.42      0.44       257\n",
            "           2       0.51      0.66      0.57       182\n",
            "           3       0.60      0.54      0.57       286\n",
            "\n",
            "    accuracy                           0.52       799\n",
            "   macro avg       0.51      0.52      0.51       799\n",
            "weighted avg       0.52      0.52      0.52       799\n",
            "\n"
          ]
        },
        {
          "output_type": "stream",
          "name": "stderr",
          "text": []
        },
        {
          "output_type": "stream",
          "name": "stdout",
          "text": [
            "Epoch 28/30\n",
            "Training Loss: 1.4094\n",
            "Validation Loss: 2.4027\n",
            "Classification Report for Target Task:\n",
            "              precision    recall  f1-score   support\n",
            "\n",
            "           0       0.37      0.49      0.42       140\n",
            "           1       0.78      0.76      0.77       274\n",
            "           2       0.51      0.44      0.47        99\n",
            "           3       0.62      0.55      0.58       286\n",
            "\n",
            "    accuracy                           0.60       799\n",
            "   macro avg       0.57      0.56      0.56       799\n",
            "weighted avg       0.61      0.60      0.60       799\n",
            "\n",
            "Classification Report for Severity Task:\n",
            "              precision    recall  f1-score   support\n",
            "\n",
            "           0       0.47      0.46      0.46        74\n",
            "           1       0.48      0.42      0.45       257\n",
            "           2       0.51      0.65      0.57       182\n",
            "           3       0.60      0.55      0.58       286\n",
            "\n",
            "    accuracy                           0.53       799\n",
            "   macro avg       0.51      0.52      0.51       799\n",
            "weighted avg       0.53      0.53      0.52       799\n",
            "\n"
          ]
        },
        {
          "output_type": "stream",
          "name": "stderr",
          "text": []
        },
        {
          "output_type": "stream",
          "name": "stdout",
          "text": [
            "Epoch 29/30\n",
            "Training Loss: 1.3843\n",
            "Validation Loss: 2.4043\n",
            "Classification Report for Target Task:\n",
            "              precision    recall  f1-score   support\n",
            "\n",
            "           0       0.37      0.49      0.42       140\n",
            "           1       0.78      0.76      0.77       274\n",
            "           2       0.51      0.44      0.47        99\n",
            "           3       0.62      0.55      0.58       286\n",
            "\n",
            "    accuracy                           0.60       799\n",
            "   macro avg       0.57      0.56      0.56       799\n",
            "weighted avg       0.61      0.60      0.60       799\n",
            "\n",
            "Classification Report for Severity Task:\n",
            "              precision    recall  f1-score   support\n",
            "\n",
            "           0       0.46      0.46      0.46        74\n",
            "           1       0.47      0.42      0.44       257\n",
            "           2       0.51      0.65      0.57       182\n",
            "           3       0.60      0.55      0.57       286\n",
            "\n",
            "    accuracy                           0.52       799\n",
            "   macro avg       0.51      0.52      0.51       799\n",
            "weighted avg       0.52      0.52      0.52       799\n",
            "\n"
          ]
        },
        {
          "output_type": "stream",
          "name": "stderr",
          "text": [
            "                                                           "
          ]
        },
        {
          "output_type": "stream",
          "name": "stdout",
          "text": [
            "Epoch 30/30\n",
            "Training Loss: 1.3968\n",
            "Validation Loss: 2.4047\n",
            "Classification Report for Target Task:\n",
            "              precision    recall  f1-score   support\n",
            "\n",
            "           0       0.37      0.49      0.42       140\n",
            "           1       0.78      0.77      0.77       274\n",
            "           2       0.51      0.44      0.47        99\n",
            "           3       0.62      0.55      0.59       286\n",
            "\n",
            "    accuracy                           0.60       799\n",
            "   macro avg       0.57      0.56      0.56       799\n",
            "weighted avg       0.62      0.60      0.61       799\n",
            "\n",
            "Classification Report for Severity Task:\n",
            "              precision    recall  f1-score   support\n",
            "\n",
            "           0       0.45      0.45      0.45        74\n",
            "           1       0.47      0.42      0.45       257\n",
            "           2       0.51      0.65      0.57       182\n",
            "           3       0.59      0.55      0.57       286\n",
            "\n",
            "    accuracy                           0.52       799\n",
            "   macro avg       0.51      0.52      0.51       799\n",
            "weighted avg       0.52      0.52      0.52       799\n",
            "\n"
          ]
        },
        {
          "output_type": "stream",
          "name": "stderr",
          "text": [
            "\r"
          ]
        }
      ],
      "source": [
        "import numpy as np\n",
        "import pandas as pd\n",
        "import torch\n",
        "from torch import nn\n",
        "from transformers import AutoTokenizer, AutoModel\n",
        "from torch.utils.data import Dataset, DataLoader\n",
        "from sklearn.metrics import classification_report\n",
        "import torch.nn.functional as F\n",
        "from tqdm import tqdm\n",
        "from sklearn.preprocessing import LabelEncoder\n",
        "\n",
        "# Function to encode labels\n",
        "def encode_labels(df, target_column, severity_column):\n",
        "    le_target = LabelEncoder()\n",
        "    le_severity = LabelEncoder()\n",
        "\n",
        "    # Encode 'Target' and 'Severity' labels into integers\n",
        "    df[target_column] = le_target.fit_transform(df[target_column])\n",
        "    df[severity_column] = le_severity.fit_transform(df[severity_column])\n",
        "\n",
        "    return df, le_target, le_severity\n",
        "\n",
        "# Custom Dataset\n",
        "class TargetSeverityDataset(Dataset):\n",
        "    def __init__(self, texts, target_labels, severity_labels, tokenizer, max_len=128):\n",
        "        self.texts = texts\n",
        "        self.target_labels = target_labels\n",
        "        self.severity_labels = severity_labels\n",
        "        self.tokenizer = tokenizer\n",
        "        self.max_len = max_len\n",
        "\n",
        "    def __len__(self):\n",
        "        return len(self.texts)\n",
        "\n",
        "    def __getitem__(self, idx):\n",
        "        text = str(self.texts[idx])\n",
        "        target_label = self.target_labels[idx]\n",
        "        severity_label = self.severity_labels[idx]\n",
        "\n",
        "        encoding = self.tokenizer(\n",
        "            text,\n",
        "            add_special_tokens=True,\n",
        "            max_length=self.max_len,\n",
        "            padding='max_length',\n",
        "            truncation=True,\n",
        "            return_tensors='pt'\n",
        "        )\n",
        "\n",
        "        return {\n",
        "            'input_ids': encoding['input_ids'].flatten(),\n",
        "            'attention_mask': encoding['attention_mask'].flatten(),\n",
        "            'target_label': torch.tensor(target_label, dtype=torch.long),\n",
        "            'severity_label': torch.tensor(severity_label, dtype=torch.long)\n",
        "        }\n",
        "\n",
        "# Multi-task Model with Softmax\n",
        "class MultiTaskTargetSeverityClassifier(nn.Module):\n",
        "    def __init__(self, bert_model, dropout_rate=0.4, num_classes=4):\n",
        "        super().__init__()\n",
        "        self.bert = bert_model\n",
        "        hidden_size = bert_model.config.hidden_size\n",
        "\n",
        "        # Common layers\n",
        "        self.dropout = nn.Dropout(dropout_rate)\n",
        "        self.dense1 = nn.Linear(hidden_size, 512)\n",
        "        self.dense2 = nn.Linear(512, 256)\n",
        "\n",
        "        # Task-specific layers\n",
        "        self.target_classifier = nn.Linear(256, num_classes)\n",
        "        self.severity_classifier = nn.Linear(256, num_classes)\n",
        "\n",
        "    def forward(self, input_ids, attention_mask):\n",
        "        outputs = self.bert(input_ids=input_ids, attention_mask=attention_mask)\n",
        "        pooled_output = outputs.last_hidden_state[:, 0, :]  # CLS token\n",
        "\n",
        "        x = self.dropout(pooled_output)\n",
        "        x = F.relu(self.dense1(x))\n",
        "        x = self.dropout(x)\n",
        "        x = F.relu(self.dense2(x))\n",
        "        x = self.dropout(x)\n",
        "\n",
        "        # Apply classifiers\n",
        "        target_output = self.target_classifier(x)\n",
        "        severity_output = self.severity_classifier(x)\n",
        "\n",
        "        return target_output, severity_output\n",
        "\n",
        "\n",
        "# Updated Training Function\n",
        "def train_model(model, train_loader, val_loader, device, num_epochs=30, learning_rate=2e-5, patience=5):\n",
        "    optimizer = torch.optim.AdamW(model.parameters(), lr=learning_rate, weight_decay=1e-4)\n",
        "    scheduler = torch.optim.lr_scheduler.ReduceLROnPlateau(optimizer, mode='min', factor=0.5, patience=2)\n",
        "    criterion = nn.CrossEntropyLoss()\n",
        "    best_val_loss = float('inf')\n",
        "    early_stop_counter = 0\n",
        "\n",
        "    for epoch in range(num_epochs):\n",
        "        model.train()\n",
        "        total_loss = 0\n",
        "\n",
        "        for batch in tqdm(train_loader, desc=f\"Training Epoch {epoch+1}/{num_epochs}\", leave=False):\n",
        "            input_ids = batch['input_ids'].to(device)\n",
        "            attention_mask = batch['attention_mask'].to(device)\n",
        "            target_labels = batch['target_label'].to(device)\n",
        "            severity_labels = batch['severity_label'].to(device)\n",
        "\n",
        "            optimizer.zero_grad()\n",
        "            target_output, severity_output = model(input_ids, attention_mask)\n",
        "\n",
        "            # Compute losses\n",
        "            target_loss = criterion(target_output, target_labels)\n",
        "            severity_loss = criterion(severity_output, severity_labels)\n",
        "            total_batch_loss = target_loss + severity_loss\n",
        "\n",
        "            total_batch_loss.backward()\n",
        "            torch.nn.utils.clip_grad_norm_(model.parameters(), max_norm=1.0)\n",
        "            optimizer.step()\n",
        "            total_loss += total_batch_loss.item()\n",
        "\n",
        "        # Validation\n",
        "        model.eval()\n",
        "        val_loss = 0\n",
        "        all_target_preds, all_severity_preds = [], []\n",
        "        all_target_labels, all_severity_labels = [], []\n",
        "\n",
        "        with torch.no_grad():\n",
        "            for batch in tqdm(val_loader, desc=\"Validating\", leave=False):\n",
        "                input_ids = batch['input_ids'].to(device)\n",
        "                attention_mask = batch['attention_mask'].to(device)\n",
        "                target_labels = batch['target_label'].to(device)\n",
        "                severity_labels = batch['severity_label'].to(device)\n",
        "\n",
        "                target_output, severity_output = model(input_ids, attention_mask)\n",
        "\n",
        "                target_loss = criterion(target_output, target_labels)\n",
        "                severity_loss = criterion(severity_output, severity_labels)\n",
        "                val_loss += (target_loss + severity_loss).item()\n",
        "\n",
        "                # Convert logits to predictions\n",
        "                all_target_preds.extend(torch.argmax(target_output, dim=1).cpu().numpy())\n",
        "                all_severity_preds.extend(torch.argmax(severity_output, dim=1).cpu().numpy())\n",
        "                all_target_labels.extend(target_labels.cpu().numpy())\n",
        "                all_severity_labels.extend(severity_labels.cpu().numpy())\n",
        "\n",
        "        # Print epoch results\n",
        "        print(f'Epoch {epoch+1}/{num_epochs}')\n",
        "        print(f'Training Loss: {total_loss/len(train_loader):.4f}')\n",
        "        print(f'Validation Loss: {val_loss/len(val_loader):.4f}')\n",
        "        scheduler.step(val_loss / len(val_loader))\n",
        "\n",
        "        print(\"Classification Report for Target Task:\")\n",
        "        print(classification_report(all_target_labels, all_target_preds))\n",
        "        print(\"Classification Report for Severity Task:\")\n",
        "        print(classification_report(all_severity_labels, all_severity_preds))\n",
        "\n",
        "        # Save the best model\n",
        "        if val_loss < best_val_loss:\n",
        "            best_val_loss = val_loss\n",
        "            early_stop_counter = 0\n",
        "            torch.save(model.state_dict(), r'/content/drive/MyDrive/best_model.pth')  # Save the best model\n",
        "        # else:\n",
        "        #     early_stop_counter += 1\n",
        "        #     if early_stop_counter >= patience:\n",
        "        #         print(\"Early stopping triggered\")\n",
        "        #         break\n",
        "\n",
        "# Usage example\n",
        "def main():\n",
        "    # Load and preprocess your data\n",
        "    df_train = pd.read_csv(r'/content/drive/MyDrive/B_trans.csv')  # Training data\n",
        "    df_val = pd.read_csv(r'/content/drive/MyDrive/B_val_trans.csv')  # Validation data\n",
        "\n",
        "    # Encode the labels\n",
        "    df_train, le_target, le_severity = encode_labels(df_train, 'Target', 'Severity')\n",
        "    df_val, _, _ = encode_labels(df_val, 'Target', 'Severity')  # Apply same encoding\n",
        "\n",
        "    # Clean and preprocess the data\n",
        "    df_train.dropna(subset=['Tweet'], inplace=True)\n",
        "    df_val.dropna(subset=['Tweet'], inplace=True)\n",
        "\n",
        "    # Extract texts and labels for training and validation\n",
        "    texts_train = df_train['Tweet'].values\n",
        "    target_labels_train = df_train['Target'].values\n",
        "    severity_labels_train = df_train['Severity'].values\n",
        "\n",
        "    texts_val = df_val['Tweet'].values\n",
        "    target_labels_val = df_val['Target'].values\n",
        "    severity_labels_val = df_val['Severity'].values\n",
        "\n",
        "    # Initialize tokenizer and model for HateBERT\n",
        "    tokenizer = AutoTokenizer.from_pretrained(\"GroNLP/hateBERT\")\n",
        "    bert_model = AutoModel.from_pretrained(\"GroNLP/hateBERT\")\n",
        "\n",
        "    # Create datasets\n",
        "    train_dataset = TargetSeverityDataset(texts_train, target_labels_train, severity_labels_train, tokenizer)\n",
        "    val_dataset = TargetSeverityDataset(texts_val, target_labels_val, severity_labels_val, tokenizer)\n",
        "\n",
        "    # Create DataLoaders\n",
        "    batch_size = 32\n",
        "    train_loader = DataLoader(train_dataset, batch_size=batch_size, shuffle=True)\n",
        "    val_loader = DataLoader(val_dataset, batch_size=batch_size)\n",
        "\n",
        "    # Initialize model\n",
        "    device = torch.device('cuda' if torch.cuda.is_available() else 'cpu')\n",
        "    model = MultiTaskTargetSeverityClassifier(bert_model).to(device)\n",
        "\n",
        "    # Train model\n",
        "    train_model(model, train_loader, val_loader, device)\n",
        "\n",
        "# Run the main function\n",
        "if __name__ == '__main__':\n",
        "    main()\n"
      ]
    },
    {
      "cell_type": "markdown",
      "source": [
        "generate predictions"
      ],
      "metadata": {
        "id": "AGy3l8jpP0rM"
      }
    },
    {
      "cell_type": "code",
      "source": [
        "import pandas as pd\n",
        "import torch\n",
        "from transformers import AutoTokenizer, AutoModel\n",
        "from torch.utils.data import Dataset, DataLoader\n",
        "from torch import nn\n",
        "import torch.nn.functional as F\n",
        "from tqdm import tqdm  # For progress bars\n",
        "from sklearn.preprocessing import LabelEncoder\n",
        "\n",
        "# Custom Dataset for Test Data\n",
        "class TargetSeverityDatasetTest(Dataset):\n",
        "    def __init__(self, texts, tokenizer, max_len=128):\n",
        "        self.texts = texts\n",
        "        self.tokenizer = tokenizer\n",
        "        self.max_len = max_len\n",
        "\n",
        "    def __len__(self):\n",
        "        return len(self.texts)\n",
        "\n",
        "    def __getitem__(self, idx):\n",
        "        text = str(self.texts[idx])\n",
        "\n",
        "        encoding = self.tokenizer(\n",
        "            text,\n",
        "            add_special_tokens=True,\n",
        "            max_length=self.max_len,\n",
        "            padding='max_length',\n",
        "            truncation=True,\n",
        "            return_tensors='pt'\n",
        "        )\n",
        "\n",
        "        return {\n",
        "            'input_ids': encoding['input_ids'].flatten(),\n",
        "            'attention_mask': encoding['attention_mask'].flatten()\n",
        "        }\n",
        "\n",
        "# Multi-task Model Definition\n",
        "class MultiTaskTargetSeverityClassifier(nn.Module):\n",
        "    def __init__(self, bert_model, dropout_rate=0.3, num_target_classes=4, num_severity_classes=4):\n",
        "        super().__init__()\n",
        "        self.bert = bert_model\n",
        "        hidden_size = bert_model.config.hidden_size\n",
        "\n",
        "        # Common layers\n",
        "        self.dropout = nn.Dropout(dropout_rate)\n",
        "        self.dense1 = nn.Linear(hidden_size, 512)\n",
        "        self.dense2 = nn.Linear(512, 256)\n",
        "\n",
        "        # Task-specific layers\n",
        "        self.target_classifier = nn.Linear(256, num_target_classes)\n",
        "        self.severity_classifier = nn.Linear(256, num_severity_classes)\n",
        "\n",
        "    def forward(self, input_ids, attention_mask):\n",
        "        outputs = self.bert(input_ids=input_ids, attention_mask=attention_mask)\n",
        "        pooled_output = outputs.last_hidden_state[:, 0, :]  # CLS token\n",
        "\n",
        "        x = self.dropout(pooled_output)\n",
        "        x = F.relu(self.dense1(x))\n",
        "        x = self.dropout(x)\n",
        "        x = F.relu(self.dense2(x))\n",
        "        x = self.dropout(x)\n",
        "\n",
        "        target_output = F.softmax(self.target_classifier(x), dim=1)\n",
        "        severity_output = F.softmax(self.severity_classifier(x), dim=1)\n",
        "\n",
        "        return target_output, severity_output\n",
        "\n",
        "# Load the saved model\n",
        "def load_model(model_path, device):\n",
        "    tokenizer = AutoTokenizer.from_pretrained(\"GroNLP/hateBERT\")  # Use hateBERT tokenizer\n",
        "    bert_model = AutoModel.from_pretrained(\"GroNLP/hateBERT\")  # Use hateBERT model\n",
        "    model = MultiTaskTargetSeverityClassifier(bert_model).to(device)\n",
        "    model.load_state_dict(torch.load(model_path))  # Load trained model weights\n",
        "    model.eval()\n",
        "    return model, tokenizer\n",
        "\n",
        "# Prediction function\n",
        "def make_predictions(model, tokenizer, test_loader, device):\n",
        "    all_predictions = []\n",
        "    with torch.no_grad():\n",
        "        for batch in tqdm(test_loader, desc=\"Making Predictions\", leave=False, ncols=100, dynamic_ncols=True):\n",
        "            input_ids = batch['input_ids'].to(device)\n",
        "            attention_mask = batch['attention_mask'].to(device)\n",
        "\n",
        "            target_output, severity_output = model(input_ids, attention_mask)\n",
        "\n",
        "            # Get predicted classes (indices with max probability)\n",
        "            target_preds = torch.argmax(target_output, dim=1).cpu().numpy()\n",
        "            severity_preds = torch.argmax(severity_output, dim=1).cpu().numpy()\n",
        "\n",
        "            all_predictions.extend(zip(target_preds, severity_preds))\n",
        "    return all_predictions\n",
        "\n",
        "# Main function for making predictions and saving to CSV\n",
        "def main():\n",
        "    # Load the test data\n",
        "    df_test = pd.read_csv(r'/content/drive/MyDrive/Test_trans.csv')  # Replace with your test data path\n",
        "\n",
        "    # Initialize tokenizer and device\n",
        "    device = torch.device('cuda' if torch.cuda.is_available() else 'cpu')\n",
        "\n",
        "    # Load the model\n",
        "    model, tokenizer = load_model(r'/content/drive/MyDrive/best_model.pth', device)  # Replace with your model path\n",
        "\n",
        "    # Create the test dataset and DataLoader\n",
        "    test_dataset = TargetSeverityDatasetTest(df_test['Tweet'].values, tokenizer)\n",
        "    test_loader = DataLoader(test_dataset, batch_size=32)\n",
        "\n",
        "    # Make predictions\n",
        "    predictions = make_predictions(model, tokenizer, test_loader, device)\n",
        "\n",
        "    # Initialize LabelEncoders and mappings\n",
        "    target_mapping = ['I', 'O', 'R', 'N/A']\n",
        "    severity_mapping = ['H', 'L', 'M', 'N/A']\n",
        "\n",
        "    # Map predictions back to original labels\n",
        "    df_test['Predicted_Target'] = [target_mapping[pred[0]] for pred in predictions]\n",
        "    df_test['Predicted_Severity'] = [severity_mapping[pred[1]] for pred in predictions]\n",
        "\n",
        "    # Save predictions to CSV\n",
        "    df_test[['Id', 'Predicted_Target', 'Predicted_Severity']].to_csv(r'/content/drive/MyDrive/taskB_hate_predictions.csv', index=False)\n",
        "    print(\"Predictions saved to 'taskB_predictions.csv'.\")\n",
        "\n",
        "# Run the main function\n",
        "if __name__ == '__main__':\n",
        "    main()\n"
      ],
      "metadata": {
        "colab": {
          "base_uri": "https://localhost:8080/"
        },
        "id": "mSYIoy2BOIP3",
        "outputId": "efa51467-9822-49bb-d45e-63dce7b202e3"
      },
      "execution_count": null,
      "outputs": [
        {
          "output_type": "stream",
          "name": "stderr",
          "text": [
            "<ipython-input-4-3944e23f9d58>:73: FutureWarning: You are using `torch.load` with `weights_only=False` (the current default value), which uses the default pickle module implicitly. It is possible to construct malicious pickle data which will execute arbitrary code during unpickling (See https://github.com/pytorch/pytorch/blob/main/SECURITY.md#untrusted-models for more details). In a future release, the default value for `weights_only` will be flipped to `True`. This limits the functions that could be executed during unpickling. Arbitrary objects will no longer be allowed to be loaded via this mode unless they are explicitly allowlisted by the user via `torch.serialization.add_safe_globals`. We recommend you start setting `weights_only=True` for any use case where you don't have full control of the loaded file. Please open an issue on GitHub for any issues related to this experimental feature.\n",
            "  model.load_state_dict(torch.load(model_path))  # Load trained model weights\n",
            "                                                                   "
          ]
        },
        {
          "output_type": "stream",
          "name": "stdout",
          "text": [
            "Predictions saved to 'taskB_predictions.csv'.\n"
          ]
        },
        {
          "output_type": "stream",
          "name": "stderr",
          "text": [
            "\r"
          ]
        }
      ]
    },
    {
      "cell_type": "code",
      "source": [
        "from google.colab import drive\n",
        "drive.mount('/content/drive')"
      ],
      "metadata": {
        "colab": {
          "base_uri": "https://localhost:8080/"
        },
        "id": "3rmeaal5PX6z",
        "outputId": "b099b385-9b09-4a2f-ae62-011674ce6688"
      },
      "execution_count": null,
      "outputs": [
        {
          "output_type": "stream",
          "name": "stdout",
          "text": [
            "Mounted at /content/drive\n"
          ]
        }
      ]
    }
  ]
}